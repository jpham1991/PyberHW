{
 "cells": [
  {
   "cell_type": "code",
   "execution_count": 141,
   "metadata": {
    "collapsed": true
   },
   "outputs": [],
   "source": [
    "import matplotlib.pyplot as plt\n",
    "import pandas as pd\n",
    "import os"
   ]
  },
  {
   "cell_type": "code",
   "execution_count": 142,
   "metadata": {
    "collapsed": true
   },
   "outputs": [],
   "source": [
    "pyber_data = os.path.join(\"Resources\", \"pyber.csv\")\n",
    "\n",
    "\n",
    "pyber_data = pd.read_csv(pyber_data)\n",
    "pyber = pd.read_csv(\"pyber.csv\")\n",
    "pyber_data = pyber.drop(['Unnamed: 0'], axis=1, inplace=True)\n",
    "pyber_data = pyber.set_index('city', inplace=False)\n",
    "pyber_df = pyber_data.drop('driver_count',1)\n",
    "pyber_df = pyber_df.drop('rides',1)\n",
    "\n",
    "pyber_df = pyber_df.fillna(1, inplace=False)"
   ]
  },
  {
   "cell_type": "code",
   "execution_count": 143,
   "metadata": {},
   "outputs": [
    {
     "data": {
      "text/html": [
       "<div>\n",
       "<style>\n",
       "    .dataframe thead tr:only-child th {\n",
       "        text-align: right;\n",
       "    }\n",
       "\n",
       "    .dataframe thead th {\n",
       "        text-align: left;\n",
       "    }\n",
       "\n",
       "    .dataframe tbody tr th {\n",
       "        vertical-align: top;\n",
       "    }\n",
       "</style>\n",
       "<table border=\"1\" class=\"dataframe\">\n",
       "  <thead>\n",
       "    <tr style=\"text-align: right;\">\n",
       "      <th></th>\n",
       "      <th>fare</th>\n",
       "    </tr>\n",
       "    <tr>\n",
       "      <th>type</th>\n",
       "      <th></th>\n",
       "    </tr>\n",
       "  </thead>\n",
       "  <tbody>\n",
       "    <tr>\n",
       "      <th>Rural</th>\n",
       "      <td>22.367135</td>\n",
       "    </tr>\n",
       "    <tr>\n",
       "      <th>Suburban</th>\n",
       "      <td>27.188911</td>\n",
       "    </tr>\n",
       "    <tr>\n",
       "      <th>Urban</th>\n",
       "      <td>28.974224</td>\n",
       "    </tr>\n",
       "  </tbody>\n",
       "</table>\n",
       "</div>"
      ],
      "text/plain": [
       "               fare\n",
       "type               \n",
       "Rural     22.367135\n",
       "Suburban  27.188911\n",
       "Urban     28.974224"
      ]
     },
     "execution_count": 143,
     "metadata": {},
     "output_type": "execute_result"
    }
   ],
   "source": [
    "type_data = []\n",
    "fare_data = []\n",
    "type_data = pyber_df['type']\n",
    "fare_data = pyber_df['fare']\n",
    "\n",
    "#new_type_data = type_data.values.T.tolist()\n",
    "#new_fare_data = fare_data.values.T.tolist()\n",
    "#pyber_df\n",
    "\n",
    "data = pyber_df.groupby(['type']).mean()\n",
    "#new_fare_data = data.values.T.tolist()\n",
    "data_list = list(data.index.values)\n",
    "colors = [\"blue\", \"yellow\", \"red\"]\n",
    "explode = (0, 0, 0.1)\n",
    "data\n",
    "#pyber_df.groupby(pyber_df['fare'])['type'].mean().plot(kind='pie', figsize=(14,6))"
   ]
  },
  {
   "cell_type": "code",
   "execution_count": 147,
   "metadata": {
    "scrolled": true
   },
   "outputs": [
    {
     "data": {
      "text/plain": [
       "([<matplotlib.patches.Wedge at 0x11b1c8da0>,\n",
       "  <matplotlib.patches.Wedge at 0x11b1af3c8>,\n",
       "  <matplotlib.patches.Wedge at 0x11b1af748>],\n",
       " [Text(-1.0788,-0.214937,'Rural'),\n",
       "  Text(0.628665,-0.902652,'Suburban'),\n",
       "  Text(0.339053,1.15111,'Urban')],\n",
       " [Text(-0.588434,-0.117239,'28.5%'),\n",
       "  Text(0.342908,-0.492356,'34.6%'),\n",
       "  Text(0.197781,0.671478,'36.9%')])"
      ]
     },
     "execution_count": 147,
     "metadata": {},
     "output_type": "execute_result"
    }
   ],
   "source": [
    "#plt.pie(new_fare_data, shadow=True, startangle=12)\n",
    "plt.pie(data, explode=explode, labels=data_list, #colors=colors,\n",
    "        autopct=\"%1.1f%%\", shadow=True, startangle=140)\n",
    "#plt.pie(new_fare_data, explode=explode, autopct='%1.1f%%', shadow=True, startangle=140)"
   ]
  },
  {
   "cell_type": "code",
   "execution_count": 148,
   "metadata": {},
   "outputs": [
    {
     "data": {
      "text/plain": [
       "(-1.1115055645986875,\n",
       " 1.1219423662281125,\n",
       " -1.1156681289011905,\n",
       " 1.2161329293676262)"
      ]
     },
     "execution_count": 148,
     "metadata": {},
     "output_type": "execute_result"
    }
   ],
   "source": [
    "plt.axis(\"equal\")"
   ]
  },
  {
   "cell_type": "code",
   "execution_count": 149,
   "metadata": {},
   "outputs": [
    {
     "data": {
      "image/png": "[encoded data removed]",
      "text/plain": [
       "<matplotlib.figure.Figure at 0x11b527c88>"
      ]
     },
     "metadata": {},
     "output_type": "display_data"
    }
   ],
   "source": [
    "plt.title(\"% of Total Fares by City Type\")\n",
    "plt.style.use(\"seaborn-deep\")\n",
    "plt.show()"
   ]
  },
  {
   "cell_type": "code",
   "execution_count": null,
   "metadata": {
    "collapsed": true
   },
   "outputs": [],
   "source": []
  },
  {
   "cell_type": "code",
   "execution_count": null,
   "metadata": {
    "collapsed": true
   },
   "outputs": [],
   "source": []
  }
 ],
 "metadata": {
  "kernelspec": {
   "display_name": "Python 3",
   "language": "python",
   "name": "python3"
  },
  "language_info": {
   "codemirror_mode": {
    "name": "ipython",
    "version": 3
   },
   "file_extension": ".py",
   "mimetype": "text/x-python",
   "name": "python",
   "nbconvert_exporter": "python",
   "pygments_lexer": "ipython3",
   "version": "3.6.3"
  }
 },
 "nbformat": 4,
 "nbformat_minor": 2
}
