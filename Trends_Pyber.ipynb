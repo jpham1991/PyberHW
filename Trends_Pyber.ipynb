{
 "cells": [
  {
   "cell_type": "code",
   "execution_count": 1,
   "metadata": {
    "collapsed": true
   },
   "outputs": [],
   "source": [
    "#Trend 1: According to my data analysis, the percent of total rides were relatively the same when compared by city type.\n",
    "#Rural cities had about 34% of total rides, whereas, Suburban had 33.2%, and Urban had 32.8%"
   ]
  },
  {
   "cell_type": "code",
   "execution_count": 2,
   "metadata": {
    "collapsed": true
   },
   "outputs": [],
   "source": [
    "#Trend 2: When analyzing percent of total fares by city type, residents in Urban cities were responsible for 36.9% of all fares. Residents in Suburban cities were accountable for 34.6% of fares and 28.5% for those in Rural areas. "
   ]
  },
  {
   "cell_type": "code",
   "execution_count": null,
   "metadata": {
    "collapsed": true
   },
   "outputs": [],
   "source": [
    "#Trend 3: Analysis on the percent of total drivers by city types seemed to have the most difference. 65.6% of total drivers were located in Urban cities and 24.8% in the Suburbs. 9.8% of total drivers were in the Rural areas."
   ]
  }
 ],
 "metadata": {
  "kernelspec": {
   "display_name": "Python 3",
   "language": "python",
   "name": "python3"
  },
  "language_info": {
   "codemirror_mode": {
    "name": "ipython",
    "version": 3
   },
   "file_extension": ".py",
   "mimetype": "text/x-python",
   "name": "python",
   "nbconvert_exporter": "python",
   "pygments_lexer": "ipython3",
   "version": "3.6.3"
  }
 },
 "nbformat": 4,
 "nbformat_minor": 2
}
