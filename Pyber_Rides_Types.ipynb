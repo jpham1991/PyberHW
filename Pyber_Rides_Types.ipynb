{
 "cells": [
  {
   "cell_type": "code",
   "execution_count": 141,
   "metadata": {
    "collapsed": true
   },
   "outputs": [],
   "source": [
    "import matplotlib.pyplot as plt\n",
    "import pandas as pd\n",
    "import os"
   ]
  },
  {
   "cell_type": "code",
   "execution_count": 142,
   "metadata": {},
   "outputs": [],
   "source": [
    "pyber_data = os.path.join(\"Resources\", \"pyber.csv\")\n",
    "pyber_data = pd.read_csv(pyber_data)\n",
    "pyber = pd.read_csv(\"pyber.csv\")\n",
    "pyber_data = pyber.drop(['Unnamed: 0'], axis=1, inplace=True)\n",
    "pyber_data = pyber.set_index('city', inplace=False)\n",
    "pyber_df = pyber_data.drop('driver_count',1)\n",
    "pyber_df = pyber_df.drop('fare',1)\n",
    "\n",
    "pyber_df = pyber_df.fillna(1, inplace=False)"
   ]
  },
  {
   "cell_type": "code",
   "execution_count": 143,
   "metadata": {},
   "outputs": [
    {
     "data": {
      "text/html": [
       "<div>\n",
       "<style>\n",
       "    .dataframe thead tr:only-child th {\n",
       "        text-align: right;\n",
       "    }\n",
       "\n",
       "    .dataframe thead th {\n",
       "        text-align: left;\n",
       "    }\n",
       "\n",
       "    .dataframe tbody tr th {\n",
       "        vertical-align: top;\n",
       "    }\n",
       "</style>\n",
       "<table border=\"1\" class=\"dataframe\">\n",
       "  <thead>\n",
       "    <tr style=\"text-align: right;\">\n",
       "      <th></th>\n",
       "      <th>rides</th>\n",
       "    </tr>\n",
       "    <tr>\n",
       "      <th>type</th>\n",
       "      <th></th>\n",
       "    </tr>\n",
       "  </thead>\n",
       "  <tbody>\n",
       "    <tr>\n",
       "      <th>Rural</th>\n",
       "      <td>26.000000</td>\n",
       "    </tr>\n",
       "    <tr>\n",
       "      <th>Suburban</th>\n",
       "      <td>25.431818</td>\n",
       "    </tr>\n",
       "    <tr>\n",
       "      <th>Urban</th>\n",
       "      <td>25.121212</td>\n",
       "    </tr>\n",
       "  </tbody>\n",
       "</table>\n",
       "</div>"
      ],
      "text/plain": [
       "              rides\n",
       "type               \n",
       "Rural     26.000000\n",
       "Suburban  25.431818\n",
       "Urban     25.121212"
      ]
     },
     "execution_count": 143,
     "metadata": {},
     "output_type": "execute_result"
    }
   ],
   "source": [
    "type_data = []\n",
    "ride_data = []\n",
    "type_data = pyber_df['type']\n",
    "ride_data = pyber_df['rides']\n",
    "\n",
    "\n",
    "\n",
    "pyber_df\n",
    "\n",
    "\n",
    "#new_type_data = type_data.values.T.tolist()\n",
    "#new_fare_data = fare_data.values.T.tolist()\n",
    "#pyber_df\n",
    "ride_data\n",
    "data = pyber_df.groupby(['type']).mean()\n",
    "#new_fare_data = data.values.T.tolist()\n",
    "data_list = list(data.index.values)\n",
    "colors = [\"blue\", \"yellow\", \"red\"]\n",
    "explode = (0, 0, 0.1)\n",
    "#data\n",
    "data"
   ]
  },
  {
   "cell_type": "code",
   "execution_count": 144,
   "metadata": {},
   "outputs": [
    {
     "data": {
      "text/plain": [
       "([<matplotlib.patches.Wedge at 0x119335e48>,\n",
       "  <matplotlib.patches.Wedge at 0x117ff3898>,\n",
       "  <matplotlib.patches.Wedge at 0x118001358>],\n",
       " [Text(-1.02601,-0.396607,'Rural'),\n",
       "  Text(0.867595,-0.676224,'Suburban'),\n",
       "  Text(0.189122,1.185,'Urban')],\n",
       " [Text(-0.559643,-0.216331,'34.0%'),\n",
       "  Text(0.473234,-0.368849,'33.2%'),\n",
       "  Text(0.110321,0.691252,'32.8%')])"
      ]
     },
     "execution_count": 144,
     "metadata": {},
     "output_type": "execute_result"
    }
   ],
   "source": [
    "plt.pie(data, explode=explode, labels=data_list, #colors=colors,\n",
    "        autopct=\"%1.1f%%\", shadow=True, startangle=140)"
   ]
  },
  {
   "cell_type": "code",
   "execution_count": 145,
   "metadata": {},
   "outputs": [
    {
     "data": {
      "text/plain": [
       "(-1.1173166666831105,\n",
       " 1.1161549745779451,\n",
       " -1.1208387631503318,\n",
       " 1.2198776389041615)"
      ]
     },
     "execution_count": 145,
     "metadata": {},
     "output_type": "execute_result"
    }
   ],
   "source": [
    "plt.axis(\"equal\")"
   ]
  },
  {
   "cell_type": "code",
   "execution_count": 146,
   "metadata": {},
   "outputs": [
    {
     "data": {
      "image/png": "[encoded data removed]",
      "text/plain": [
       "<matplotlib.figure.Figure at 0x117d57ac8>"
      ]
     },
     "metadata": {},
     "output_type": "display_data"
    }
   ],
   "source": [
    "plt.title(\"% of Total Rides by City Type\")\n",
    "plt.style.use(\"seaborn-deep\")\n",
    "plt.show()"
   ]
  },
  {
   "cell_type": "code",
   "execution_count": null,
   "metadata": {
    "collapsed": true
   },
   "outputs": [],
   "source": []
  }
 ],
 "metadata": {
  "kernelspec": {
   "display_name": "Python 3",
   "language": "python",
   "name": "python3"
  },
  "language_info": {
   "codemirror_mode": {
    "name": "ipython",
    "version": 3
   },
   "file_extension": ".py",
   "mimetype": "text/x-python",
   "name": "python",
   "nbconvert_exporter": "python",
   "pygments_lexer": "ipython3",
   "version": "3.6.3"
  }
 },
 "nbformat": 4,
 "nbformat_minor": 2
}
