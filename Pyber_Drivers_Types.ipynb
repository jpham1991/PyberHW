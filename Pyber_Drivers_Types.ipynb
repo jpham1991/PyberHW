{
 "cells": [
  {
   "cell_type": "code",
   "execution_count": 59,
   "metadata": {
    "collapsed": true
   },
   "outputs": [],
   "source": [
    "import matplotlib.pyplot as plt\n",
    "import pandas as pd\n",
    "import os"
   ]
  },
  {
   "cell_type": "code",
   "execution_count": 60,
   "metadata": {
    "collapsed": true
   },
   "outputs": [],
   "source": [
    "pyber_data = os.path.join(\"Resources\", \"pyber.csv\")\n",
    "pyber_data = pd.read_csv(pyber_data)\n",
    "pyber = pd.read_csv(\"pyber.csv\")\n",
    "pyber_data = pyber.drop(['Unnamed: 0'], axis=1, inplace=True)\n",
    "pyber_data = pyber.set_index('city', inplace=False)\n",
    "pyber_df = pyber_data.drop('rides',1)\n",
    "pyber_df = pyber_df.drop('fare',1)\n",
    "\n",
    "pyber_df = pyber_df.fillna(1, inplace=False)"
   ]
  },
  {
   "cell_type": "code",
   "execution_count": 61,
   "metadata": {},
   "outputs": [
    {
     "data": {
      "text/html": [
       "<div>\n",
       "<style>\n",
       "    .dataframe thead tr:only-child th {\n",
       "        text-align: right;\n",
       "    }\n",
       "\n",
       "    .dataframe thead th {\n",
       "        text-align: left;\n",
       "    }\n",
       "\n",
       "    .dataframe tbody tr th {\n",
       "        vertical-align: top;\n",
       "    }\n",
       "</style>\n",
       "<table border=\"1\" class=\"dataframe\">\n",
       "  <thead>\n",
       "    <tr style=\"text-align: right;\">\n",
       "      <th></th>\n",
       "      <th>driver_count</th>\n",
       "    </tr>\n",
       "    <tr>\n",
       "      <th>type</th>\n",
       "      <th></th>\n",
       "    </tr>\n",
       "  </thead>\n",
       "  <tbody>\n",
       "    <tr>\n",
       "      <th>Rural</th>\n",
       "      <td>5.777778</td>\n",
       "    </tr>\n",
       "    <tr>\n",
       "      <th>Suburban</th>\n",
       "      <td>14.909091</td>\n",
       "    </tr>\n",
       "    <tr>\n",
       "      <th>Urban</th>\n",
       "      <td>39.500000</td>\n",
       "    </tr>\n",
       "  </tbody>\n",
       "</table>\n",
       "</div>"
      ],
      "text/plain": [
       "          driver_count\n",
       "type                  \n",
       "Rural         5.777778\n",
       "Suburban     14.909091\n",
       "Urban        39.500000"
      ]
     },
     "execution_count": 61,
     "metadata": {},
     "output_type": "execute_result"
    }
   ],
   "source": [
    "type_data = []\n",
    "drivers_data = []\n",
    "type_data = pyber_df['type']\n",
    "drivers_data = pyber_df['driver_count']\n",
    "\n",
    "\n",
    "\n",
    "pyber_df\n",
    "\n",
    "\n",
    "#new_type_data = type_data.values.T.tolist()\n",
    "#new_fare_data = fare_data.values.T.tolist()\n",
    "#pyber_df\n",
    "drivers_data\n",
    "data = pyber_df.groupby(['type']).mean()\n",
    "#new_fare_data = data.values.T.tolist()\n",
    "data_list = list(data.index.values)\n",
    "colors = [\"blue\", \"yellow\", \"red\"]\n",
    "explode = (0, 0, 0.1)\n",
    "#data\n",
    "data"
   ]
  },
  {
   "cell_type": "code",
   "execution_count": 62,
   "metadata": {},
   "outputs": [
    {
     "data": {
      "text/plain": [
       "([<matplotlib.patches.Wedge at 0x1178f1f60>,\n",
       "  <matplotlib.patches.Wedge at 0x1178fc978>,\n",
       "  <matplotlib.patches.Wedge at 0x117905438>],\n",
       " [Text(-1.01464,0.424859,'Rural'),\n",
       "  Text(-0.853076,-0.69445,'Suburban'),\n",
       "  Text(1.11365,0.446963,'Urban')],\n",
       " [Text(-0.55344,0.231741,'9.6%'),\n",
       "  Text(-0.465314,-0.378791,'24.8%'),\n",
       "  Text(0.649631,0.260728,'65.6%')])"
      ]
     },
     "execution_count": 62,
     "metadata": {},
     "output_type": "execute_result"
    }
   ],
   "source": [
    "plt.pie(data, explode=explode, labels=data_list, #colors=colors,\n",
    "        autopct=\"%1.1f%%\", shadow=True, startangle=140)"
   ]
  },
  {
   "cell_type": "code",
   "execution_count": 63,
   "metadata": {},
   "outputs": [
    {
     "data": {
      "text/plain": [
       "(-1.1267625411890612,\n",
       " 1.2132778894301237,\n",
       " -1.0963297721733001,\n",
       " 1.1542770442144348)"
      ]
     },
     "execution_count": 63,
     "metadata": {},
     "output_type": "execute_result"
    }
   ],
   "source": [
    "plt.axis(\"equal\")"
   ]
  },
  {
   "cell_type": "code",
   "execution_count": 64,
   "metadata": {
    "scrolled": true
   },
   "outputs": [
    {
     "data": {
      "image/png": "[encoded data removed]",
      "text/plain": [
       "<matplotlib.figure.Figure at 0x117627128>"
      ]
     },
     "metadata": {},
     "output_type": "display_data"
    }
   ],
   "source": [
    "plt.title(\"% of Total Drivers by City Type\")\n",
    "plt.style.use(\"seaborn-deep\")\n",
    "plt.show()"
   ]
  },
  {
   "cell_type": "code",
   "execution_count": null,
   "metadata": {
    "collapsed": true
   },
   "outputs": [],
   "source": []
  },
  {
   "cell_type": "code",
   "execution_count": null,
   "metadata": {
    "collapsed": true
   },
   "outputs": [],
   "source": []
  }
 ],
 "metadata": {
  "kernelspec": {
   "display_name": "Python 3",
   "language": "python",
   "name": "python3"
  },
  "language_info": {
   "codemirror_mode": {
    "name": "ipython",
    "version": 3
   },
   "file_extension": ".py",
   "mimetype": "text/x-python",
   "name": "python",
   "nbconvert_exporter": "python",
   "pygments_lexer": "ipython3",
   "version": "3.6.3"
  }
 },
 "nbformat": 4,
 "nbformat_minor": 2
}
